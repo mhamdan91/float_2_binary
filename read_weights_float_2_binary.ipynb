{
 "cells": [
  {
   "cell_type": "code",
   "execution_count": 1,
   "metadata": {
    "collapsed": true
   },
   "outputs": [],
   "source": [
    "from __future__ import print_function\n",
    "import numpy as np\n",
    "import pickle as pk\n",
    "import h5py\n",
    "path = r\"C:\\Users\\abe_mhamdan\\Google Drive\\PhD classes\\My_other_stuff\\cnn_vhdl_generator\\Sample Config\"\n",
    "# f = h5py.File(path+r'\\LeNet_weights.h5', 'r')\n",
    "# print(\"Keys: %s\" % f.keys())\n",
    "# a_group_key = list(f.keys())[0]\n",
    "# print(a_group_key)\n",
    "# data = list(f[a_group_key])"
   ]
  },
  {
   "cell_type": "code",
   "execution_count": 2,
   "metadata": {},
   "outputs": [],
   "source": [
    "\n",
    "\n",
    "def print_structure(weight_file_path):\n",
    "    \"\"\"\n",
    "    Prints out the structure of HDF5 file.\n",
    "\n",
    "    Args:\n",
    "      weight_file_path (str) : Path to the file to analyze\n",
    "    \"\"\"\n",
    "    dic = {}\n",
    "    f = h5py.File(weight_file_path)\n",
    "    try:\n",
    "        if len(f.attrs.items()):\n",
    "            print(\"{} contains: \".format(weight_file_path))\n",
    "            print(\"Root attributes:\")\n",
    "\n",
    "        print(\"  f.attrs.items(): \")\n",
    "        for key, value in f.attrs.items():           \n",
    "            print(\"  {}: {}\".format(key, value))\n",
    "\n",
    "        if len(f.items())==0:\n",
    "            print(\"  Terminate # len(f.items())==0: \")\n",
    "            return \n",
    "\n",
    "        print(\"  layer, g in f.items():\")\n",
    "        for layer, g in f.items():            \n",
    "            print(\"  {}\".format(layer))\n",
    "            print(\"    g.attrs.items(): Attributes:\")\n",
    "            for key, value in g.attrs.items():\n",
    "                print(\"      {}: {}\".format(key, value))\n",
    "\n",
    "            print(\"    Dataset:\")\n",
    "            for p_name in g.keys():\n",
    "                param = g[p_name]\n",
    "                subkeys = param.keys()\n",
    "                print(\"    Dataset: param.keys():\")\n",
    "                for k_name in param.keys():\n",
    "                    print(\"      {}/{}: {}\".format(p_name, k_name, param.get(k_name)[:]))\n",
    "                    full_name = p_name+\"_\"+k_name\n",
    "                    if full_name not in dic:\n",
    "                        dic[full_name] = param.get(k_name)[:]\n",
    "        \n",
    "    finally:\n",
    "        f.close()\n",
    "        return dic\n"
   ]
  },
  {
   "cell_type": "code",
   "execution_count": 3,
   "metadata": {
    "collapsed": true
   },
   "outputs": [],
   "source": [
    "def get_structure(weight_file_path):\n",
    "    \"\"\"\n",
    "    Prints out the structure of HDF5 file.\n",
    "\n",
    "    Args:\n",
    "      weight_file_path (str) : Path to the file to analyze\n",
    "    \"\"\"\n",
    "    dic = {}\n",
    "    mnn = 10000\n",
    "    mxx = -10000\n",
    "    f = h5py.File(weight_file_path)\n",
    "    try:\n",
    "        if len(f.items())==0:\n",
    "            print(\"  Terminate # len(f.items())==0: \")\n",
    "            return \n",
    "        for layer, g in f.items():            \n",
    "            for p_name in g.keys():\n",
    "                param = g[p_name]\n",
    "                subkeys = param.keys()\n",
    "                for k_name in param.keys():\n",
    "                    full_name = p_name+\"_\"+k_name\n",
    "                    mn = param.get(k_name)[:].min()\n",
    "                    mx = param.get(k_name)[:].max()\n",
    "                    if mn < mnn:\n",
    "                        mnn = mn\n",
    "                    if mx > mxx:\n",
    "                        mxx = mx \n",
    "                    if full_name not in dic:\n",
    "                        dic[full_name] = param.get(k_name)[:]\n",
    "        \n",
    "    finally:\n",
    "        f.close()\n",
    "        dic['min'] = mnn\n",
    "        dic['max'] = mxx\n",
    "        return dic\n"
   ]
  },
  {
   "cell_type": "code",
   "execution_count": 233,
   "metadata": {},
   "outputs": [],
   "source": [
    "# layers_data = get_structure(path+r'\\LeNet_weights.h5')\n",
    "layers_data = get_structure(path+r'\\pre_trained.h5')"
   ]
  },
  {
   "cell_type": "code",
   "execution_count": 235,
   "metadata": {
    "collapsed": false
   },
   "outputs": [],
   "source": [
    "# layers_data.keys()"
   ]
  },
  {
   "cell_type": "code",
   "execution_count": 59,
   "metadata": {},
   "outputs": [],
   "source": [
    "print(layers_data['conv2d_1_bias:0'].shape)\n",
    "print(layers_data['conv2d_1_kernel:0'].shape)\n",
    "print(layers_data['conv2d_2_bias:0'].shape)\n",
    "print(layers_data['conv2d_2_kernel:0'].shape)\n",
    "print(layers_data['dense_1_bias:0'].shape)\n",
    "print(layers_data['dense_1_kernel:0'].shape)\n",
    "print(layers_data['dense_2_bias:0'].shape)\n",
    "print(layers_data['dense_2_kernel:0'].shape)\n",
    "print(layers_data['dense_3_bias:0'].shape)\n",
    "print(layers_data['dense_3_kernel:0'].shape)"
   ]
  },
  {
   "cell_type": "code",
   "execution_count": 54,
   "metadata": {},
   "outputs": [
    {
     "name": "stdout",
     "output_type": "stream",
     "text": [
      "Min: -0.00074155646 | Max: 0.061288413\nMin: -0.2240237 | Max: 0.73604625\nMin: -0.01703397 | Max: -0.01703397\nMin: -0.22595307 | Max: 0.32863265\nMin: -0.016864615 | Max: 0.023750363\nMin: -0.1646064 | Max: 0.16093789\nMin: -0.02758921 | Max: 0.033506185\nMin: -0.22199304 | Max: 0.2247658\nMin: -0.053902518 | Max: 0.04713465\nMin: -0.35105056 | Max: 0.39551076\n"
     ]
    }
   ],
   "source": [
    "print(\"Min:\", layers_data['conv2d_1_bias:0'].min(), \"| Max:\", layers_data['conv2d_1_bias:0'].max())\n",
    "print(\"Min:\", layers_data['conv2d_1_kernel:0'].min(), \"| Max:\",layers_data['conv2d_1_kernel:0'].max() )\n",
    "print(\"Min:\", layers_data['conv2d_2_bias:0'].min(), \"| Max:\", layers_data['conv2d_2_bias:0'].min().max())\n",
    "print(\"Min:\", layers_data['conv2d_2_kernel:0'].min(), \"| Max:\", layers_data['conv2d_2_kernel:0'].max())\n",
    "print(\"Min:\", layers_data['dense_1_bias:0'].min(), \"| Max:\", layers_data['dense_1_bias:0'].max() )\n",
    "print(\"Min:\", layers_data['dense_1_kernel:0'].min(), \"| Max:\", layers_data['dense_1_kernel:0'].max() )\n",
    "print(\"Min:\", layers_data['dense_2_bias:0'].min(), \"| Max:\", layers_data['dense_2_bias:0'].max())\n",
    "print(\"Min:\", layers_data['dense_2_kernel:0'].min(), \"| Max:\", layers_data['dense_2_kernel:0'].max())\n",
    "print(\"Min:\", layers_data['dense_3_bias:0'].min(), \"| Max:\",layers_data['dense_3_bias:0'].max() )\n",
    "print(\"Min:\", layers_data['dense_3_kernel:0'].min(), \"| Max:\", layers_data['dense_3_kernel:0'].max())\n"
   ]
  },
  {
   "cell_type": "code",
   "execution_count": 60,
   "metadata": {},
   "outputs": [
    {
     "name": "stdout",
     "output_type": "stream",
     "text": [
      "-28.623568 504.61877\n"
     ]
    }
   ],
   "source": [
    "print(layers_data['min'], layers_data['max'])"
   ]
  },
  {
   "cell_type": "code",
   "execution_count": 10,
   "metadata": {},
   "outputs": [],
   "source": [
    "def twos_comp(number):\n",
    "    number = list(number.split('b')[1])\n",
    "    for i, num in enumerate(number):\n",
    "        if num == '0':\n",
    "            number[i] = '1'\n",
    "        else: \n",
    "            number[i] = '0'\n",
    "    for i in range(len(number)):\n",
    "        if number[-1-i] == '0':\n",
    "            number[-1-i] = '1'\n",
    "            break\n",
    "        else:\n",
    "            number[-1-i] = '0'\n",
    "            \n",
    "    return ''.join(number)\n"
   ]
  },
  {
   "cell_type": "code",
   "execution_count": 24,
   "metadata": {},
   "outputs": [
    {
     "name": "stdout",
     "output_type": "stream",
     "text": [
      "0 1 0\n.0001100110011001\n"
     ]
    }
   ],
   "source": [
    "# Function returns octal representation \n",
    "def float_bin(number, places = 3): \n",
    "  \n",
    "    # split() seperates whole number and decimal  \n",
    "    # part and stores it in two seperate variables \n",
    "    whole, dec = str(number).split(\".\") \n",
    "    zeros = dec.count('0')\n",
    "    print(whole, dec, zeros)\n",
    "    # Convert both whole number and decimal   \n",
    "    # part from string type to integer type \n",
    "    whole = int(whole)\n",
    "    dec = int (dec) \n",
    "    \n",
    "    # Convert the whole number part to it's \n",
    "    # respective binary form and remove the \n",
    "    # \"0b\" from it. \n",
    "    res = bin(whole).lstrip(\"0b\") + \".\"\n",
    "    # Iterate the number of times, we want \n",
    "    # the number of decimal places to be \n",
    "    for x in range(places): \n",
    "  \n",
    "        # Multiply the decimal value by 2  \n",
    "        # and seperate the whole number part \n",
    "        # and decimal part \n",
    "        # print(\"dec:\", dec, \"  whole:\", whole)\n",
    "        \n",
    "        whole, dec = str((decimal_converter(dec, zeros)) * 2.0).split(\".\")\n",
    "        zeros = len(dec) - len(dec.lstrip('0'))\n",
    "        # zeros = dec.count('0')\n",
    "        # print(whole, dec, zeros)\n",
    "        # Convert the decimal part \n",
    "        # to integer again\n",
    "        if dec.__contains__('e'):\n",
    "            dec = dec.split('e')\n",
    "            digit = int(dec[0])\n",
    "            exponent = pow(10, int(dec[1]))\n",
    "            dec = digit*exponent\n",
    "        else:\n",
    "            dec = int(dec) \n",
    "        # print(whole, dec, zeros)\n",
    "        # Keep adding the integer parts  \n",
    "        # receive to the result variable \n",
    "        res += whole \n",
    "  \n",
    "    return res \n",
    "  \n",
    "# Function converts the value passed as \n",
    "# parameter to it's decimal representation \n",
    "def decimal_converter(num, zeros):  \n",
    "    while num >= 1: \n",
    "        num /= 10\n",
    "    for i in range(zeros):\n",
    "        num /=10\n",
    "    # print(\"number:\", num)\n",
    "    return num \n",
    "  \n",
    "# Driver Code \n",
    "  \n",
    "# Take the user input for  \n",
    "# the floating point number \n",
    "# n = input(\"Enter your floating point value : \\n\") \n",
    "#   \n",
    "# # Take user input for the number of \n",
    "# # decimal places user want result as \n",
    "# p = int(input(\"Enter the number of decimal places of the result : \\n\")) \n",
    "  \n",
    "# print(float_bin(n, places = p)) \n",
    "# print(decimal_converter(123))\n",
    "\n",
    "\n",
    "print(float_bin(0.1, places=16))\n"
   ]
  },
  {
   "cell_type": "code",
   "execution_count": 52,
   "metadata": {},
   "outputs": [
    {
     "data": {
      "text/plain": [
       "'0x1999'"
      ]
     },
     "execution_count": 52,
     "metadata": {},
     "output_type": "execute_result"
    }
   ],
   "source": [
    "a= 0b0001100110011001\n",
    "hex(a)"
   ]
  },
  {
   "cell_type": "code",
   "execution_count": null,
   "metadata": {},
   "outputs": [],
   "source": [
    "np.log2(.1)"
   ]
  },
  {
   "cell_type": "code",
   "execution_count": 51,
   "metadata": {},
   "outputs": [
    {
     "name": "stdout",
     "output_type": "stream",
     "text": [
      "0b110101001001110100\n20\n3.32208251953125\n"
     ]
    }
   ],
   "source": [
    "# convert fractional binary to decimal\n",
    "b = bin(217716)\n",
    "print(b)\n",
    "num = 0\n",
    "pos_cnt = 0\n",
    "neg_cnt = 0\n",
    "b = list(b)\n",
    "print(len(b))\n",
    "if len(b) > 18:\n",
    "    digit = b[2:len(b)-16]\n",
    "    frac = b[len(b)-16:]\n",
    "else:\n",
    "    digit = 0\n",
    "    frac = b\n",
    "\n",
    "digits = 0\n",
    "if digit != 0:\n",
    "    for i, x in enumerate(digit):\n",
    "        if digit[-1-i] == '0':\n",
    "            pass\n",
    "        else:\n",
    "            digits += 2**i\n",
    "else:\n",
    "    digits = 0\n",
    "\n",
    "fract = 0\n",
    "for i, x in enumerate(frac):\n",
    "    if x == '0':\n",
    "        pass\n",
    "    else:\n",
    "        fract += 2**(-i-1)\n",
    "\n",
    "my_number = digits+fract\n",
    "print(my_number)"
   ]
  },
  {
   "cell_type": "code",
   "execution_count": null,
   "metadata": {},
   "outputs": [],
   "source": []
  },
  {
   "cell_type": "code",
   "execution_count": 53,
   "metadata": {},
   "outputs": [],
   "source": [
    ""
   ]
  },
  {
   "cell_type": "code",
   "execution_count": 53,
   "metadata": {},
   "outputs": [],
   "source": []
  },
  {
   "cell_type": "code",
   "execution_count": 244,
   "metadata": {},
   "outputs": [
    {
     "data": {
      "text/plain": [
       "array([ 1,  2,  3,  4,  5,  6,  7,  8,  9, 10, 11, 12])"
      ]
     },
     "execution_count": 244,
     "metadata": {},
     "output_type": "execute_result"
    }
   ],
   "source": [
    "arr = []\n",
    "filter1 = np.array([[1,2],[3,4]])\n",
    "filter2 = np.array([[5,6],[7,8]])\n",
    "filter3 = np.array([[9,10],[11,12]])\n",
    "filters = np.stack([filter1,filter2,filter3])\n",
    "filters.flatten()"
   ]
  },
  {
   "cell_type": "code",
   "execution_count": 53,
   "metadata": {},
   "outputs": [],
   "source": [
    ""
   ]
  },
  {
   "cell_type": "code",
   "execution_count": 264,
   "metadata": {},
   "outputs": [],
   "source": [
    ""
   ]
  },
  {
   "cell_type": "code",
   "execution_count": 264,
   "metadata": {},
   "outputs": [],
   "source": [
    ""
   ]
  },
  {
   "cell_type": "code",
   "execution_count": 264,
   "metadata": {},
   "outputs": [],
   "source": [
    ""
   ]
  },
  {
   "cell_type": "code",
   "execution_count": 264,
   "metadata": {},
   "outputs": [],
   "source": [
    ""
   ]
  },
  {
   "cell_type": "code",
   "execution_count": 264,
   "metadata": {},
   "outputs": [],
   "source": [
    ""
   ]
  },
  {
   "cell_type": "code",
   "execution_count": null,
   "metadata": {},
   "outputs": [],
   "source": []
  }
 ],
 "metadata": {
  "kernelspec": {
   "display_name": "Python 2",
   "language": "python",
   "name": "python2"
  },
  "language_info": {
   "codemirror_mode": {
    "name": "ipython",
    "version": 2
   },
   "file_extension": ".py",
   "mimetype": "text/x-python",
   "name": "python",
   "nbconvert_exporter": "python",
   "pygments_lexer": "ipython2",
   "version": "2.7.6"
  }
 },
 "nbformat": 4,
 "nbformat_minor": 0
}
